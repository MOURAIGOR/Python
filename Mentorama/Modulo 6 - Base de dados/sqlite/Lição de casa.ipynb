{
 "metadata": {
  "language_info": {
   "codemirror_mode": {
    "name": "ipython",
    "version": 3
   },
   "file_extension": ".py",
   "mimetype": "text/x-python",
   "name": "python",
   "nbconvert_exporter": "python",
   "pygments_lexer": "ipython3",
   "version": "3.8.5-final"
  },
  "orig_nbformat": 2,
  "kernelspec": {
   "name": "python3",
   "display_name": "Python 3",
   "language": "python"
  }
 },
 "nbformat": 4,
 "nbformat_minor": 2,
 "cells": [
  {
   "cell_type": "code",
   "execution_count": 2,
   "metadata": {},
   "outputs": [],
   "source": [
    "import sqlite3\n",
    "banco = sqlite3.connect('funcionarios.db')"
   ]
  },
  {
   "cell_type": "code",
   "execution_count": 3,
   "metadata": {},
   "outputs": [],
   "source": [
    "cursor = banco.cursor()"
   ]
  },
  {
   "cell_type": "code",
   "execution_count": 3,
   "metadata": {},
   "outputs": [],
   "source": [
    "cursor.execute(\"CREATE TABLE funcionarios ( codigo integer, primeiroNome text, segundoNome text, ultimoNome text, dataNasc integer, CPF integer, RG integer, endereço text, CEP integer,cidade text, fone integer,  idDepartamento integer, função, salario integer)\")\n",
    "cursor.execute(\"INSERT INTO funcionarios Values(1, 'Fatima', 'Louise', 'Silveira', 13051958, 45959365596, 445873656,  'Avenida Aviador Rossini Morada Luna',  64062200, 'Teresina', 8635109300, 1, 'RH',  3.500)\")\n",
    "banco.commit()"
   ]
  },
  {
   "cell_type": "code",
   "execution_count": 29,
   "metadata": {},
   "outputs": [
    {
     "output_type": "stream",
     "name": "stdout",
     "text": [
      "[(1, 'Fatima', 'Louise', 'Silveira', 13051958, 45959365596, 445873656, 'Avenida Aviador Rossini Morada Luna', 64062200, 'Teresina', 8635109300, 1, 'RH', 3.5), (2, 'Gael', 'José', 'Sérgio', 8111982, 481160905, 110364028, 'Rua Primeiro de Janeiro', 65031430, 'São Luís', 9838756194, 3, 'Administrativo', 1200), (3, 'Bianca', 'Elisa', 'Sophia', 26041946, 15838051507, 466817022, 'Rua Principal', 65091009, 'Boa Vista', 98379152431, 2, 'Limpeza', 920), (4, 'Nathan', 'Enrico', 'Gomes', 14101999, 28926352412, 138335242, 'Rua Toffoli Culau', 97090670, 'Santa Maria', 5529282605, 4, 'contas a receber', 350), (5, 'Diogo', 'Iago', 'da Cruz', 9051970, 16943334263, 154274008, 'Quadra Quatro', 66815453, 'Belém', 91994547824, 6, 'assistente de midia', 3500), (6, 'Mateus', 'Gabriel', 'Nascimento', 18011972, 89937752060, 438137711, 'Rua Edgard', 7124380, 'Guarulhos', 11984719199, 5, 'recrutador', 850), (7, 'Emily', 'Mariana', 'Santos', 23051945, 48129149141, 302038358, 'Rua Treze de Maio', 65060760, 'São Miguel', 9836903502, 1, 'estagiario', 827), (2, 'Gael', 'José', 'Sérgio', 8111982, 481160905, 110364028, 'Rua Primeiro de Janeiro', 65031430, 'São Luís', 9838756194, 3, 'Administrativo', 1200), (3, 'Bianca', 'Elisa', 'Sophia', 26041946, 15838051507, 466817022, 'Rua Principal', 65091009, 'Boa Vista', 98379152431, 2, 'Limpeza', 920), (4, 'Nathan', 'Enrico', 'Gomes', 14101999, 28926352412, 138335242, 'Rua Toffoli Culau', 97090670, 'Santa Maria', 5529282605, 4, 'contas a receber', 350), (5, 'Diogo', 'Iago', 'da Cruz', 9051970, 16943334263, 154274008, 'Quadra Quatro', 66815453, 'Belém', 91994547824, 6, 'assistente de midia', 3500), (6, 'Mateus', 'Gabriel', 'Nascimento', 18011972, 89937752060, 438137711, 'Rua Edgard', 7124380, 'Guarulhos', 11984719199, 5, 'recrutador', 850), (7, 'Emily', 'Mariana', 'Santos', 23051945, 48129149141, 302038358, 'Rua Treze de Maio', 65060760, 'São Miguel', 9836903502, 1, 'estagiario', 827), (2, 'Gael', 'José', 'Sérgio', 8111982, 481160905, 110364028, 'Rua Primeiro de Janeiro', 65031430, 'São Luís', 9838756194, 3, 'Administrativo', 1200), (3, 'Bianca', 'Elisa', 'Sophia', 26041946, 15838051507, 466817022, 'Rua Principal', 65091009, 'Boa Vista', 98379152431, 2, 'Limpeza', 920), (4, 'Nathan', 'Enrico', 'Gomes', 14101999, 28926352412, 138335242, 'Rua Toffoli Culau', 97090670, 'Santa Maria', 5529282605, 4, 'contas a receber', 350), (5, 'Diogo', 'Iago', 'da Cruz', 9051970, 16943334263, 154274008, 'Quadra Quatro', 66815453, 'Belém', 91994547824, 6, 'assistente de midia', 3500), (6, 'Mateus', 'Gabriel', 'Nascimento', 18011972, 89937752060, 438137711, 'Rua Edgard', 7124380, 'Guarulhos', 11984719199, 5, 'recrutador', 850), (7, 'Emily', 'Mariana', 'Santos', 23051945, 48129149141, 302038358, 'Rua Treze de Maio', 65060760, 'São Miguel', 9836903502, 1, 'estagiario', 827), (8, 'Julio', 'Oliver', 'Pedro', 23041981, 873775106, 322424604, 'Rua São Pedro', 59139795, 'Natal', 8438480322, 2, 'Auxiliar de limpeza', 104500), (9, 'Leonardo', 'Anderson', 'Julio Alves', 24031943, 48758856870, 324749582, 'Rua Quatorze', 68038650, 'Santarém', 93993962785, 3, 'Assistente de recpção', 850), (10, 'Henrique', 'Manoel', 'Almada', 26051966, 12319598006, 430914052, 'Rua Jarbas Araújo Pina', 29116640, 'Vila Velha', 2739132055, 4, 'Contas a pagar', 250000)]\n"
     ]
    }
   ],
   "source": [
    "cursor.execute(\"SELECT * FROM funcionarios\")\n",
    "print (cursor.fetchall())"
   ]
  },
  {
   "cell_type": "code",
   "execution_count": 5,
   "metadata": {},
   "outputs": [
    {
     "output_type": "stream",
     "name": "stdout",
     "text": [
      "Tabela criada com sucesso!\n"
     ]
    }
   ],
   "source": [
    "cursor.execute(\"CREATE TABLE departamentos (codigo integer PRIMARY KEY , nome text, localizacao text, CodigoFuncionarioGerente)\")\n",
    "print(\"Tabela criada com sucesso!\")"
   ]
  },
  {
   "cell_type": "code",
   "execution_count": 9,
   "metadata": {},
   "outputs": [
    {
     "output_type": "error",
     "ename": "IntegrityError",
     "evalue": "UNIQUE constraint failed: departamentos.codigo",
     "traceback": [
      "\u001b[1;31m---------------------------------------------------------------------------\u001b[0m",
      "\u001b[1;31mIntegrityError\u001b[0m                            Traceback (most recent call last)",
      "\u001b[1;32m<ipython-input-9-4b0a385af27f>\u001b[0m in \u001b[0;36m<module>\u001b[1;34m\u001b[0m\n\u001b[0;32m      5\u001b[0m                      \u001b[1;33m(\u001b[0m\u001b[1;34m'5'\u001b[0m\u001b[1;33m,\u001b[0m \u001b[1;34m'Comercial'\u001b[0m\u001b[1;33m,\u001b[0m \u001b[1;34m''\u001b[0m\u001b[1;33m,\u001b[0m \u001b[1;34m''\u001b[0m\u001b[1;33m)\u001b[0m\u001b[1;33m,\u001b[0m\u001b[1;33m\u001b[0m\u001b[1;33m\u001b[0m\u001b[0m\n\u001b[0;32m      6\u001b[0m                      ('6', 'Administrativo', '', '')]\n\u001b[1;32m----> 7\u001b[1;33m \u001b[0mcursor\u001b[0m\u001b[1;33m.\u001b[0m\u001b[0mexecutemany\u001b[0m\u001b[1;33m(\u001b[0m\u001b[1;34m\"\"\"INSERT INTO departamentos VALUES (?,?,?,?)\"\"\"\u001b[0m\u001b[1;33m,\u001b[0m \u001b[0mlistadepartamento\u001b[0m\u001b[1;33m)\u001b[0m\u001b[1;33m\u001b[0m\u001b[1;33m\u001b[0m\u001b[0m\n\u001b[0m\u001b[0;32m      8\u001b[0m \u001b[0mprint\u001b[0m\u001b[1;33m(\u001b[0m\u001b[1;34m\"Dados inseridos com sucesso!\"\u001b[0m\u001b[1;33m)\u001b[0m\u001b[1;33m\u001b[0m\u001b[1;33m\u001b[0m\u001b[0m\n\u001b[0;32m      9\u001b[0m \u001b[0mbanco\u001b[0m\u001b[1;33m.\u001b[0m\u001b[0mcommit\u001b[0m\u001b[1;33m(\u001b[0m\u001b[1;33m)\u001b[0m\u001b[1;33m\u001b[0m\u001b[1;33m\u001b[0m\u001b[0m\n",
      "\u001b[1;31mIntegrityError\u001b[0m: UNIQUE constraint failed: departamentos.codigo"
     ]
    }
   ],
   "source": [
    "listadepartamento = [('1', 'RH', '', ''),\n",
    "                     ('2', 'Manutenção', '' , ''),\n",
    "                     ('3', 'Recepção', '', ''),\n",
    "                     ('4', 'Juridico', '', ''),\n",
    "                     ('5', 'Comercial', '', ''),\n",
    "                     ('6', 'Administrativo', '', '')]\n",
    "cursor.executemany(\"\"\"INSERT INTO departamentos VALUES (?,?,?,?)\"\"\", listadepartamento)\n",
    "print(\"Dados inseridos com sucesso!\")\n",
    "banco.commit()"
   ]
  },
  {
   "cell_type": "code",
   "execution_count": 18,
   "metadata": {},
   "outputs": [],
   "source": [
    "listafuncionarios = [(2,'Gael', 'José', 'Sérgio', 8111982, 481160905, 110364028,'Rua Primeiro de Janeiro', 65031430, 'São Luís', 9838756194, 3, 'Administrativo', 1200),\n",
    "                    (3,'Bianca', 'Elisa', 'Sophia',26041946, 15838051507, 466817022, 'Rua Principal', 65091009, 'Boa Vista', 98379152431, 2, 'Limpeza', 920), \n",
    "                    (4, 'Nathan','Enrico', 'Gomes', 14101999, 28926352412, 138335242, 'Rua Toffoli Culau', 97090670, 'Santa Maria', 5529282605, 4, 'contas a receber', 350),\n",
    "                    (5,'Diogo', 'Iago', 'da Cruz', 9051970, 16943334263, 154274008, 'Quadra Quatro', 66815453, 'Belém', 91994547824, 6, 'assistente de midia', 3500),\n",
    "                    (6, 'Mateus', 'Gabriel', 'Nascimento', 18011972, 89937752060, 438137711, 'Rua Edgard', 7124380, 'Guarulhos', 11984719199, 5, 'recrutador', 850),\n",
    "                    (7,'Emily', 'Mariana', 'Santos', 23051945, 48129149141, 302038358, 'Rua Treze de Maio', 65060760, 'São Miguel', 9836903502, 1, 'estagiario', 827),\n",
    "                    (8,'Julio', 'Oliver', 'Pedro', 23041981, 873775106, 322424604, 'Rua São Pedro', 59139795, 'Natal', 8438480322, 2, 'Auxiliar de limpeza', 104500),\n",
    "                    (9,'Leonardo', 'Anderson', 'Julio Alves', 24031943, 48758856870, 324749582, 'Rua Quatorze', 68038650, 'Santarém', 93993962785, 3, 'Assistente de recpção', 850),\n",
    "                    (10, 'Henrique', 'Manoel', 'Almada', 26051966, 12319598006, 430914052, 'Rua Jarbas Araújo Pina', 29116640, 'Vila Velha', 2739132055, 4, 'Contas a pagar', 250000)]\n",
    "\n"
   ]
  },
  {
   "cell_type": "code",
   "execution_count": 19,
   "metadata": {},
   "outputs": [
    {
     "output_type": "stream",
     "name": "stdout",
     "text": [
      "Dados inseridos com sucesso!\n"
     ]
    }
   ],
   "source": [
    "cursor.executemany(\"\"\"INSERT INTO funcionarios VALUES (?,?,?,?,?,?,?,?,?,?,?,?,?,?)\"\"\", listafuncionarios)\n",
    "print (\"Dados inseridos com sucesso!\")\n",
    "banco.commit()"
   ]
  },
  {
   "source": [
    "### A) Listar nome e sobrenome ordenado por sobrenome\n"
   ],
   "cell_type": "markdown",
   "metadata": {}
  },
  {
   "cell_type": "code",
   "execution_count": 3,
   "metadata": {},
   "outputs": [
    {
     "output_type": "stream",
     "name": "stdout",
     "text": [
      "[('Henrique', 'Almada'), ('Nathan', 'Gomes'), ('Leonardo', 'Julio Alves'), ('Mateus', 'Nascimento'), ('Julio', 'Pedro'), ('Emily', 'Santos'), ('Fatima', 'Silveira'), ('Bianca', 'Sophia'), ('Gael', 'Sérgio'), ('Diogo', 'da Cruz')]\n"
     ]
    }
   ],
   "source": [
    "cursor.execute(\"SELECT primeiroNome, ultimoNome FROM funcionarios ORDER BY ultimoNome\")\n",
    "print (cursor.fetchall())\n"
   ]
  },
  {
   "source": [
    "### B)\tListar todos os campos de funcionários ordenados por cidade\n"
   ],
   "cell_type": "markdown",
   "metadata": {}
  },
  {
   "cell_type": "code",
   "execution_count": 4,
   "metadata": {},
   "outputs": [
    {
     "output_type": "stream",
     "name": "stdout",
     "text": [
      "[(5, 'Diogo', 'Iago', 'da Cruz', 9051970, 16943334263, 154274008, 'Quadra Quatro', 66815453, 'Belém', 91994547824, 6, 'assistente de midia', 3500), (3, 'Bianca', 'Elisa', 'Sophia', 26041946, 15838051507, 466817022, 'Rua Principal', 65091009, 'Boa Vista', 98379152431, 2, 'Limpeza', 920), (6, 'Mateus', 'Gabriel', 'Nascimento', 18011972, 89937752060, 438137711, 'Rua Edgard', 7124380, 'Guarulhos', 11984719199, 5, 'recrutador', 850), (8, 'Julio', 'Oliver', 'Pedro', 23041981, 873775106, 322424604, 'Rua São Pedro', 59139795, 'Natal', 8438480322, 2, 'Auxiliar de limpeza', 104500), (4, 'Nathan', 'Enrico', 'Gomes', 14101999, 28926352412, 138335242, 'Rua Toffoli Culau', 97090670, 'Santa Maria', 5529282605, 4, 'contas a receber', 350), (9, 'Leonardo', 'Anderson', 'Julio Alves', 24031943, 48758856870, 324749582, 'Rua Quatorze', 68038650, 'Santarém', 93993962785, 3, 'Assistente de recpção', 850), (2, 'Gael', 'José', 'Sérgio', 8111982, 481160905, 110364028, 'Rua Primeiro de Janeiro', 65031430, 'São Luís', 9838756194, 3, 'Administrativo', 1200), (7, 'Emily', 'Mariana', 'Santos', 23051945, 48129149141, 302038358, 'Rua Treze de Maio', 65060760, 'São Miguel', 9836903502, 1, 'estagiario', 827), (1, 'Fatima', 'Louise', 'Silveira', 13051958, 45959365596, 445873656, 'Avenida Aviador Rossini Morada Luna', 64062200, 'Teresina', 8635109300, 1, 'RH', 3.5), (10, 'Henrique', 'Manoel', 'Almada', 26051966, 12319598006, 430914052, 'Rua Jarbas Araújo Pina', 29116640, 'Vila Velha', 2739132055, 4, 'Contas a pagar', 250000)]\n"
     ]
    }
   ],
   "source": [
    "cursor.execute(\"SELECT * FROM funcionarios ORDER BY cidade\")\n",
    "print (cursor.fetchall())\n"
   ]
  },
  {
   "source": [
    "### C)\tListe os funcionários que têm salário superior a R$ 1.000,00 ordenados pelo nome completo"
   ],
   "cell_type": "markdown",
   "metadata": {}
  },
  {
   "cell_type": "code",
   "execution_count": 25,
   "metadata": {},
   "outputs": [
    {
     "output_type": "stream",
     "name": "stdout",
     "text": [
      "[(3, 'Bianca', 'Elisa', 'Sophia', '26/04/1946', '158.380.515-07', '46.681.702-2', 'Rua Principal', '65.091-009', 'Boa Vista', '98 3791-52431', 2, 'Limpeza', '920,35'), (5, 'Diogo', 'Iago', 'da Cruz', '9/05/1970', '169.433.342-63', '15.427.400-8', 'Quadra Quatro', '66.815-453', 'Belém', '91 9945-47824', 6, 'Qualidade', '3.500,78'), (7, 'Emily', 'Mariana', 'Santos', '23/05/1945', '481.291.491-41', '30.203.835-8', 'Rua Treze de Maio', '65.060-760', 'São Miguel', '98 3690-3502', 1, 'Estagiario', '827,55'), (1, 'Fatima', 'Louise', 'Silveira', '13/05/1958', '459.593.655-96', '44.587.365-6', 'Avenida Aviador Rossini Morada Luna', '64.062-200', 'Teresina', '86 3510-9300', 1, 'RH', '3.550,00'), (2, 'Gael', 'José', 'Sérgio', '8/11/1982', '481.160.905-00', '11.036.402-8', 'Rua Primeiro de Janeiro', '65.031-430', 'São Luís', '98 3875-6194', 3, 'Assitente pessoal', '1.200,58'), (10, 'Henrique', 'Manoel', 'Almada', '26/05/1966', '123.195.980-06', '43.091.405-2', 'Rua Jarbas Araújo Pina', '29.116-640', 'Vila Velha', '27 3913-2055', 4, 'Contas a pagar', '2.500,00'), (8, 'Julio', 'Oliver', 'Pedro', '23/04/1981', '288.737.751-06', '32.242.460-4', 'Rua São Pedro', '59.139-795', 'Natal', '84 3848-0322', 2, 'Auxiliar de limpeza', '1.045,00'), (9, 'Leonardo', 'Anderson', 'Julio Alves', '24/03/1943', '487.588.568-70', '32.474.958-2', 'Rua Quatorze', '68.038-650', 'Santarém', '93 9939-62785', 3, 'Assistente de recpção', '850,00'), (6, 'Mateus', 'Gabriel', 'Nascimento', '18/01/1972', '899.377.520-60', '43.813.771-1', 'Rua Edgard', '71.243-801', 'Guarulhos', '11 9847-19199', 5, 'Vendas', '850,15'), (4, 'Nathan', 'Enrico', 'Gomes', '14/10/1999', '289.263.524-12', '13.833.524-2', 'Rua Toffoli Culau', '97.090-670', 'Santa Maria', '55 2928-2605', 4, 'contas a receber', '350,45')]\n"
     ]
    }
   ],
   "source": [
    "cursor.execute(\"\"\"SELECT * \n",
    "FROM funcionarios\n",
    "WHERE salario > 1000\n",
    "ORDER BY primeiroNome, segundoNome, ultimoNome\"\"\")\n",
    "print (cursor.fetchall())"
   ]
  },
  {
   "source": [
    "### D)\tListe a data de nascimento e o primeiro nome dos funcionários ordenados do mais novo para o mais velho\n"
   ],
   "cell_type": "markdown",
   "metadata": {}
  },
  {
   "cell_type": "code",
   "execution_count": 32,
   "metadata": {},
   "outputs": [
    {
     "output_type": "stream",
     "name": "stdout",
     "text": [
      "[('13/05/1958', 'Fatima'), ('14/10/1999', 'Nathan'), ('18/01/1972', 'Mateus'), ('23/04/1981', 'Julio'), ('23/05/1945', 'Emily'), ('24/03/1943', 'Leonardo'), ('26/04/1946', 'Bianca'), ('26/05/1966', 'Henrique'), ('8/11/1982', 'Gael'), ('9/05/1970', 'Diogo')]\n"
     ]
    }
   ],
   "source": [
    "cursor.execute(\"\"\"SELECT dataNasc, primeiroNome FROM funcionarios\n",
    "ORDER BY  dataNasc, primeiroNome\"\"\")\n",
    "print (cursor.fetchall())"
   ]
  },
  {
   "source": [
    "### E)\tListe o total da folha de pagamento"
   ],
   "cell_type": "markdown",
   "metadata": {}
  },
  {
   "cell_type": "code",
   "execution_count": 31,
   "metadata": {},
   "outputs": [
    {
     "output_type": "stream",
     "name": "stdout",
     "text": [
      "[(3808.795,)]\n"
     ]
    }
   ],
   "source": [
    "cursor.execute(\"SELECT SUM(salario) FROM funcionarios\")\n",
    "print (cursor.fetchall())"
   ]
  },
  {
   "source": [
    "### F)\tListe o nome, o nome do departamento e a função de todos os funcionários"
   ],
   "cell_type": "markdown",
   "metadata": {}
  },
  {
   "cell_type": "code",
   "execution_count": 30,
   "metadata": {},
   "outputs": [
    {
     "output_type": "stream",
     "name": "stdout",
     "text": [
      "[('Bianca', 'Manutenção', 'Limpeza'), ('Diogo', 'Administrativo', 'Qualidade'), ('Emily', 'RH', 'Estagiario'), ('Fatima', 'RH', 'RH'), ('Gael', 'Recepção', 'Assitente pessoal'), ('Henrique', 'Juridico', 'Contas a pagar'), ('Julio', 'Manutenção', 'Auxiliar de limpeza'), ('Leonardo', 'Recepção', 'Assistente de recpção'), ('Mateus', 'Comercial', 'Vendas'), ('Nathan', 'Juridico', 'contas a receber')]\n"
     ]
    }
   ],
   "source": [
    "cursor.execute(\"SELECT funcionarios.primeiroNome, departamentos.nome,funcionarios.função FROM funcionarios JOIN departamentos ON funcionarios.idDepartamento = departamentos.codigo ORDER BY funcionarios.primeiroNome\")\n",
    "print (cursor.fetchall())"
   ]
  },
  {
   "source": [
    "### G)\tListe a quantidade de funcionários desta empresa"
   ],
   "cell_type": "markdown",
   "metadata": {}
  },
  {
   "cell_type": "code",
   "execution_count": 29,
   "metadata": {},
   "outputs": [
    {
     "output_type": "stream",
     "name": "stdout",
     "text": [
      "[(10,)]\n"
     ]
    }
   ],
   "source": [
    "cursor.execute(\"SELECT COUNT(*) FROM funcionarios\")\n",
    "print (cursor.fetchall())"
   ]
  },
  {
   "source": [
    "### H)\tListe o nome do departamento e do funcionário ordenados por departamento e funcionário\n"
   ],
   "cell_type": "markdown",
   "metadata": {}
  },
  {
   "cell_type": "code",
   "execution_count": 28,
   "metadata": {},
   "outputs": [
    {
     "output_type": "stream",
     "name": "stdout",
     "text": [
      "[('Administrativo', 'Diogo'), ('Comercial', 'Mateus'), ('Juridico', 'Henrique'), ('Juridico', 'Nathan'), ('Manutenção', 'Bianca'), ('Manutenção', 'Julio'), ('RH', 'Emily'), ('RH', 'Fatima'), ('Recepção', 'Gael'), ('Recepção', 'Leonardo')]\n"
     ]
    }
   ],
   "source": [
    "cursor.execute(\"SELECT departamentos.nome, funcionarios.primeiroNome FROM Departamentos JOIN funcionarios ON departamentos.codigo = funcionarios.idDepartamento ORDER BY departamentos.nome, funcionarios.primeiroNome\")\n",
    "print (cursor.fetchall())"
   ]
  },
  {
   "cell_type": "code",
   "execution_count": null,
   "metadata": {},
   "outputs": [],
   "source": []
  }
 ]
}